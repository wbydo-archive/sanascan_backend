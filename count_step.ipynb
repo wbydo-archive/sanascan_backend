{
 "cells": [
  {
   "cell_type": "markdown",
   "metadata": {},
   "source": [
    "2018/05/01\n",
    "\n",
    "打ち合わせ資料\n",
    "\n",
    "櫻岡響\n",
    "\n",
    "# 列番号からの文字列推定実験\n",
    "## RDBの使用により以下が実現\n",
    "- sentenceをid指定で呼び出し\n",
    "- 言語モデルとsentenceがidで紐付いている\n",
    "- 生成した言語モデルにチェックサムが付いているので、後から再現可能（現状バイナリで保存しているので16進数文字列に変更予定）"
   ]
  },
  {
   "cell_type": "markdown",
   "metadata": {},
   "source": [
    "# 準備"
   ]
  },
  {
   "cell_type": "code",
   "execution_count": 1,
   "metadata": {},
   "outputs": [],
   "source": [
    "from functools import reduce\n",
    "from sklearn.model_selection import train_test_split\n",
    "\n",
    "from anakin.lang_model.lang_model import LangModel\n",
    "\n",
    "from anakin.lang_model_file_factory import LangModelFileFactory\n",
    "from anakin.db.session import database, engine_and_session\n",
    "from anakin.db.model import Base, Sentence, File\n",
    "\n",
    "from anakin.util.word import Word\n",
    "from anakin.util.estimate import estimate\n",
    "from anakin.util.key_to_word import KeyToWord\n",
    "from anakin.util.dp_matching import DPMatching\n",
    "from anakin.step_count import words2step, METHODS\n",
    "\n",
    "from env import LOCAL\n",
    "\n",
    "import pandas as pd\n",
    "import numpy as np\n",
    "from matplotlib import pyplot\n",
    "import seaborn as sns"
   ]
  },
  {
   "cell_type": "code",
   "execution_count": 2,
   "metadata": {},
   "outputs": [],
   "source": [
    "with open('test_sentences.txt', 'r') as f:\n",
    "    test = [line.strip() for line in iter(f.readline, '')]"
   ]
  },
  {
   "cell_type": "markdown",
   "metadata": {
    "collapsed": true
   },
   "source": [
    "# ステップ数"
   ]
  },
  {
   "cell_type": "code",
   "execution_count": 10,
   "metadata": {},
   "outputs": [],
   "source": [
    "series = []\n",
    "for sentence in test:\n",
    "    words = Word.from_sentence(sentence)\n",
    "    s = pd.Series({\n",
    "        'sentence':sentence,\n",
    "        **dict((m, words2step(words, m).num) for m in METHODS)\n",
    "    })\n",
    "    series.append(s)\n",
    "res = pd.DataFrame(series, columns=['sentence', 'traditional', 'pair_wise', 'col_num_all', 'col_num_sq'])"
   ]
  },
  {
   "cell_type": "code",
   "execution_count": 11,
   "metadata": {},
   "outputs": [],
   "source": [
    "with open('count_step.csv', 'w') as f:\n",
    "    f.write(res.to_csv())"
   ]
  },
  {
   "cell_type": "code",
   "execution_count": null,
   "metadata": {
    "collapsed": true
   },
   "outputs": [],
   "source": []
  }
 ],
 "metadata": {
  "kernelspec": {
   "display_name": "Python 3",
   "language": "python",
   "name": "python3"
  },
  "language_info": {
   "codemirror_mode": {
    "name": "ipython",
    "version": 3
   },
   "file_extension": ".py",
   "mimetype": "text/x-python",
   "name": "python",
   "nbconvert_exporter": "python",
   "pygments_lexer": "ipython3",
   "version": "3.6.1"
  }
 },
 "nbformat": 4,
 "nbformat_minor": 2
}
